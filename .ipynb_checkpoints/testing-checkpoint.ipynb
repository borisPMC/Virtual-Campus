{
 "cells": [
  {
   "cell_type": "code",
   "execution_count": 1,
   "metadata": {},
   "outputs": [],
   "source": [
    "import cv2\n",
    "import pandas as pd"
   ]
  },
  {
   "cell_type": "code",
   "execution_count": 2,
   "metadata": {},
   "outputs": [],
   "source": [
    "def getImageDataframe(folderPath: str) -> pd.DataFrame:\n",
    "    \n",
    "    FOLDER_PATH = folderPath + \"\\\\\"\n",
    "\n",
    "    def readImage(id):\n",
    "        imagePath = FOLDER_PATH + id + \".jpg\"\n",
    "        image = cv2.imread(imagePath)\n",
    "        if image is not None:\n",
    "            return image\n",
    "        else:\n",
    "            print(f\"Failed to load image with ID: {id}\")\n",
    "            return None\n",
    "                  \n",
    "    def processRow(row):\n",
    "        id = row[\"id\"]\n",
    "        image = readImage(id)\n",
    "        return image\n",
    "\n",
    "    jsonPath = FOLDER_PATH + \"annatation.jsonl\"\n",
    "    imgDf = pd.read_json(jsonPath, lines=True)\n",
    "\n",
    "    imgDf[\"image\"] = imgDf.apply(processRow, axis=1)\n",
    "    print(\"Imported {}\".format(folderPath))\n",
    "    return imgDf"
   ]
  },
  {
   "cell_type": "code",
   "execution_count": 3,
   "metadata": {},
   "outputs": [],
   "source": [
    "def showFirstImage(df):\n",
    "    first_image = df.iloc[0]['image']\n",
    "    cv2.imshow(f\"First Image - ID: {df.iloc[0]['id']} - Annotation: {df.iloc[0]['annotation']}\", first_image)\n",
    "    cv2.waitKey(0)  # Wait for any key press\n",
    "    cv2.destroyAllWindows()  # Close all OpenCV windows"
   ]
  },
  {
   "cell_type": "markdown",
   "metadata": {},
   "source": [
    "Validate import"
   ]
  },
  {
   "cell_type": "code",
   "execution_count": 4,
   "metadata": {},
   "outputs": [
    {
     "name": "stdout",
     "output_type": "stream",
     "text": [
      "Imported images\n"
     ]
    },
    {
     "ename": "NameError",
     "evalue": "name 'df' is not defined",
     "output_type": "error",
     "traceback": [
      "\u001b[1;31m---------------------------------------------------------------------------\u001b[0m",
      "\u001b[1;31mNameError\u001b[0m                                 Traceback (most recent call last)",
      "Cell \u001b[1;32mIn[4], line 3\u001b[0m\n\u001b[0;32m      1\u001b[0m path \u001b[38;5;241m=\u001b[39m \u001b[38;5;124m\"\u001b[39m\u001b[38;5;124mimages\u001b[39m\u001b[38;5;124m\"\u001b[39m\n\u001b[0;32m      2\u001b[0m imgDf \u001b[38;5;241m=\u001b[39m getImageDataframe(path)\n\u001b[1;32m----> 3\u001b[0m showFirstImage(df)\n",
      "\u001b[1;31mNameError\u001b[0m: name 'df' is not defined"
     ]
    }
   ],
   "source": [
    "path = \"images\"\n",
    "imgDf = getImageDataframe(path)\n",
    "showFirstImage(imgDf)"
   ]
  }
 ],
 "metadata": {
  "kernelspec": {
   "display_name": "Python 3 (ipykernel)",
   "language": "python",
   "name": "python3"
  },
  "language_info": {
   "codemirror_mode": {
    "name": "ipython",
    "version": 3
   },
   "file_extension": ".py",
   "mimetype": "text/x-python",
   "name": "python",
   "nbconvert_exporter": "python",
   "pygments_lexer": "ipython3",
   "version": "3.11.8"
  }
 },
 "nbformat": 4,
 "nbformat_minor": 4
}
